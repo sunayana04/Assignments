{
 "cells": [
  {
   "cell_type": "code",
   "execution_count": 2,
   "id": "d7890824",
   "metadata": {},
   "outputs": [
    {
     "name": "stdout",
     "output_type": "stream",
     "text": [
      "Enter a number: 50\n",
      "0 1 1 2 3 5 8 13 21 34 "
     ]
    }
   ],
   "source": [
    "n=int(input(\"Enter a number: \"))\n",
    "f1=0\n",
    "f2=1\n",
    "print(f1,end=\" \")\n",
    "print(f2,end=\" \")\n",
    "f3=f1+f2\n",
    "while(f3<=n):\n",
    "    print(f3,end=\" \")\n",
    "    f1=f2\n",
    "    f2=f3\n",
    "    f3=f1+f2"
   ]
  },
  {
   "cell_type": "code",
   "execution_count": null,
   "id": "58fc9954",
   "metadata": {},
   "outputs": [],
   "source": []
  }
 ],
 "metadata": {
  "kernelspec": {
   "display_name": "Python 3 (ipykernel)",
   "language": "python",
   "name": "python3"
  },
  "language_info": {
   "codemirror_mode": {
    "name": "ipython",
    "version": 3
   },
   "file_extension": ".py",
   "mimetype": "text/x-python",
   "name": "python",
   "nbconvert_exporter": "python",
   "pygments_lexer": "ipython3",
   "version": "3.11.0"
  }
 },
 "nbformat": 4,
 "nbformat_minor": 5
}

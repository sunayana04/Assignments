{
 "cells": [
  {
   "cell_type": "code",
   "execution_count": 1,
   "id": "092005a2",
   "metadata": {},
   "outputs": [
    {
     "name": "stdout",
     "output_type": "stream",
     "text": [
      "Data written to indian_states.json successfully!\n"
     ]
    }
   ],
   "source": [
    "import json\n",
    "\n",
    "# Define the dictionary of Indian states and capitals\n",
    "indian_states = {\n",
    "    \"Andhra Pradesh\": \"Amaravati\",\n",
    "    \"Arunachal Pradesh\": \"Itanagar\",\n",
    "    \"Assam\": \"Dispur\",\n",
    "    \"Bihar\": \"Patna\",\n",
    "    \"Gujarat\": \"Gandhinagar\",\n",
    "    \"Haryana\": \"Chandigarh\",\n",
    "    \"Karnataka\": \"Bengaluru\"\n",
    "}\n",
    "\n",
    "# Write the dictionary to a JSON file\n",
    "with open(\"indian_states.json\", \"w\") as file:\n",
    "    json.dump(indian_states, file)\n",
    "\n",
    "print(\"Data written to indian_states.json successfully!\")\n"
   ]
  },
  {
   "cell_type": "code",
   "execution_count": null,
   "id": "a436adc5",
   "metadata": {},
   "outputs": [],
   "source": []
  }
 ],
 "metadata": {
  "kernelspec": {
   "display_name": "Python 3 (ipykernel)",
   "language": "python",
   "name": "python3"
  },
  "language_info": {
   "codemirror_mode": {
    "name": "ipython",
    "version": 3
   },
   "file_extension": ".py",
   "mimetype": "text/x-python",
   "name": "python",
   "nbconvert_exporter": "python",
   "pygments_lexer": "ipython3",
   "version": "3.11.0"
  }
 },
 "nbformat": 4,
 "nbformat_minor": 5
}

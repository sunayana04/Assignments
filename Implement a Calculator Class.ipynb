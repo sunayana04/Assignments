{
 "cells": [
  {
   "cell_type": "code",
   "execution_count": 12,
   "id": "2def80cb",
   "metadata": {},
   "outputs": [
    {
     "name": "stdout",
     "output_type": "stream",
     "text": [
      "104\n",
      "84\n",
      "940\n",
      "9.4\n"
     ]
    }
   ],
   "source": [
    "class Calculator:\n",
    "    \n",
    "    def __init__(self,num1,num2):\n",
    "        self.num1=num1\n",
    "        self.num2=num2\n",
    "        \n",
    "    def add(self):\n",
    "        return self.num1+self.num2\n",
    "        \n",
    "    def subtract(self):\n",
    "        return self.num2-self.num1\n",
    "        \n",
    "    def multiply(self):\n",
    "        return self.num1*self.num2\n",
    "        \n",
    "    def divide(self):\n",
    "        return self.num2/self.num1\n",
    "        \n",
    "obj = Calculator(10, 94)\n",
    "print(obj.add())    \n",
    "print(obj.subtract()) \n",
    "print(obj.multiply())\n",
    "print(obj.divide())"
   ]
  },
  {
   "cell_type": "code",
   "execution_count": null,
   "id": "6d6b25dd",
   "metadata": {},
   "outputs": [],
   "source": []
  }
 ],
 "metadata": {
  "kernelspec": {
   "display_name": "Python 3 (ipykernel)",
   "language": "python",
   "name": "python3"
  },
  "language_info": {
   "codemirror_mode": {
    "name": "ipython",
    "version": 3
   },
   "file_extension": ".py",
   "mimetype": "text/x-python",
   "name": "python",
   "nbconvert_exporter": "python",
   "pygments_lexer": "ipython3",
   "version": "3.11.0"
  }
 },
 "nbformat": 4,
 "nbformat_minor": 5
}

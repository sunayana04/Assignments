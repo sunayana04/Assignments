{
 "cells": [
  {
   "cell_type": "code",
   "execution_count": 1,
   "id": "ab73462c",
   "metadata": {},
   "outputs": [
    {
     "name": "stdout",
     "output_type": "stream",
     "text": [
      "sample list: [4, 5, 2, 9]\n",
      "\n",
      "square elements of the sample list: [16, 25, 4, 81]\n"
     ]
    }
   ],
   "source": [
    "nums=[4,5,2,9]\n",
    "print(\"sample list:\",nums)\n",
    "result=map(lambda x:x*x,nums)\n",
    "print(\"\\nsquare elements of the sample list:\",(list(result)))"
   ]
  },
  {
   "cell_type": "code",
   "execution_count": null,
   "id": "345172e4",
   "metadata": {},
   "outputs": [],
   "source": []
  }
 ],
 "metadata": {
  "kernelspec": {
   "display_name": "Python 3 (ipykernel)",
   "language": "python",
   "name": "python3"
  },
  "language_info": {
   "codemirror_mode": {
    "name": "ipython",
    "version": 3
   },
   "file_extension": ".py",
   "mimetype": "text/x-python",
   "name": "python",
   "nbconvert_exporter": "python",
   "pygments_lexer": "ipython3",
   "version": "3.11.0"
  }
 },
 "nbformat": 4,
 "nbformat_minor": 5
}

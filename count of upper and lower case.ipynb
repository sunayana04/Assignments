{
 "cells": [
  {
   "cell_type": "code",
   "execution_count": 1,
   "id": "5e55a338",
   "metadata": {},
   "outputs": [
    {
     "name": "stdout",
     "output_type": "stream",
     "text": [
      "Lower case characters = 12\n",
      "Upper case characters = 3\n"
     ]
    }
   ],
   "source": [
    "string = 'The quick Brow Fox'\n",
    "upper = 0\n",
    "lower = 0\n",
    "up=\"ABCDEFGHIJKLMNOPQRSTUVWXYZ\"\n",
    "lo=\"abcdefghijklmnopqrstuvwxyz\" \n",
    "for i in string:\n",
    "    if i in up:\n",
    "        upper+=1\n",
    "    elif i in lo:\n",
    "        lower+=1\n",
    "print('Lower case characters = %s' %lower)\n",
    "print('Upper case characters = %s' %upper)\n"
   ]
  },
  {
   "cell_type": "code",
   "execution_count": null,
   "id": "b0757277",
   "metadata": {},
   "outputs": [],
   "source": []
  }
 ],
 "metadata": {
  "kernelspec": {
   "display_name": "Python 3 (ipykernel)",
   "language": "python",
   "name": "python3"
  },
  "language_info": {
   "codemirror_mode": {
    "name": "ipython",
    "version": 3
   },
   "file_extension": ".py",
   "mimetype": "text/x-python",
   "name": "python",
   "nbconvert_exporter": "python",
   "pygments_lexer": "ipython3",
   "version": "3.11.0"
  }
 },
 "nbformat": 4,
 "nbformat_minor": 5
}

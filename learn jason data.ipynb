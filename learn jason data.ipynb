{
 "cells": [
  {
   "cell_type": "code",
   "execution_count": 63,
   "id": "69c59392",
   "metadata": {},
   "outputs": [
    {
     "name": "stdout",
     "output_type": "stream",
     "text": [
      "None\n"
     ]
    }
   ],
   "source": [
    "import json\n",
    "employee = {\"emp1\":\n",
    "           [\n",
    "    {\n",
    "    \"Name\":\"Rahul\",\n",
    "    \"DOB\":\"1-1-91\",\n",
    "    \"Height\":\"150cm\",\n",
    "    \"City\":\"Ahmedabad\",\n",
    "    \"State\":\"Gujrat\"\n",
    "        \n",
    "}\n",
    "           ],\n",
    "    \"emp2\":\n",
    "               [\n",
    "        {\n",
    "    \"Name\":\"Richa\",\n",
    "    \"DOB\":\"10-1-94\",\n",
    "    \"Height\":\"150cm\",\n",
    "    \"City\":\"Amritsar\",\n",
    "    \"State\":\"Punjab\"\n",
    "}\n",
    "    ],\n",
    "    \"emp3\":\n",
    "               [\n",
    "        {\n",
    "    \"Name\":\"Nayana\",\n",
    "    \"DOB\":\"04-11-96\",\n",
    "    \"Height\":\"150cm\",\n",
    "    \"City\":\"Jaipur\",\n",
    "    \"State\":\"Rajasthan\"\n",
    "}\n",
    "    ],\n",
    "     \"emp4\":[\n",
    "         {\n",
    "    \"Name\":\"Embellia\",\n",
    "    \"DOB\":\"10-11-92\",\n",
    "    \"Height\":\"147cm\",\n",
    "    \"City\":\"Kanpur\",\n",
    "    \"State\":\"U.P\"\n",
    "         }\n",
    "     ],\n",
    "    \"emp5\":\n",
    "               [\n",
    "        {\n",
    "              \n",
    "    \"Name\":\"Rik\",\n",
    "    \"DOB\":\"5-10-92\",\n",
    "    \"Height\":\"155cm\",\n",
    "    \"City\":\"Guwahati\",\n",
    "    \"State\":\"Assam\"\n",
    "}\n",
    "    ]}\n",
    "\n",
    "\n",
    "with open(\"emp.json\",\"w\") as f:\n",
    "    a=json.dump(employee,f)\n",
    "    print(a)"
   ]
  },
  {
   "cell_type": "code",
   "execution_count": 83,
   "id": "07a15c6b",
   "metadata": {},
   "outputs": [
    {
     "name": "stdout",
     "output_type": "stream",
     "text": [
      "emp1 -> [{'Name': 'Rahul', 'DOB': '1-1-91', 'Height': '150cm', 'City': 'Ahmedabad', 'State': 'Gujrat'}]\n",
      "emp2 -> [{'Name': 'Richa', 'DOB': '10-1-94', 'Height': '150cm', 'City': 'Amritsar', 'State': 'Punjab'}]\n",
      "emp3 -> [{'Name': 'Nayana', 'DOB': '04-11-96', 'Height': '150cm', 'City': 'Jaipur', 'State': 'Rajasthan'}]\n",
      "emp4 -> [{'Name': 'Embellia', 'DOB': '10-11-92', 'Height': '147cm', 'City': 'Kanpur', 'State': 'U.P'}]\n",
      "emp5 -> [{'Name': 'Rik', 'DOB': '5-10-92', 'Height': '155cm', 'City': 'Guwahati', 'State': 'Assam'}]\n",
      "<class 'list'>\n",
      "<class 'dict'>\n"
     ]
    }
   ],
   "source": [
    "def employees():\n",
    "    with open (\"emp.json\",\"r\")as file:\n",
    "        a=json.load(file)\n",
    "    for i in a:\n",
    "        print(i,'->',a[i])\n",
    "    print(type(a[i]))\n",
    "    print(type(a))\n",
    "        \n",
    "employees()\n",
    "    \n",
    "\n",
    "\n",
    "\n",
    "\n",
    "\n",
    "\n",
    "    "
   ]
  },
  {
   "cell_type": "code",
   "execution_count": 46,
   "id": "54a0bcbb",
   "metadata": {},
   "outputs": [
    {
     "ename": "SyntaxError",
     "evalue": "unterminated string literal (detected at line 11) (70367545.py, line 11)",
     "output_type": "error",
     "traceback": [
      "\u001b[1;36m  Cell \u001b[1;32mIn[46], line 11\u001b[1;36m\u001b[0m\n\u001b[1;33m    print(\"Employee name is \"+self.name+\" Employee dob is \"+self.dob+\" Employee city is \"+self.city+\" Employee state is \"+self.state\")\u001b[0m\n\u001b[1;37m                                                                                                                                    ^\u001b[0m\n\u001b[1;31mSyntaxError\u001b[0m\u001b[1;31m:\u001b[0m unterminated string literal (detected at line 11)\n"
     ]
    }
   ],
   "source": [
    "\n",
    "    "
   ]
  },
  {
   "cell_type": "code",
   "execution_count": null,
   "id": "b360575e",
   "metadata": {},
   "outputs": [],
   "source": []
  }
 ],
 "metadata": {
  "kernelspec": {
   "display_name": "Python 3 (ipykernel)",
   "language": "python",
   "name": "python3"
  },
  "language_info": {
   "codemirror_mode": {
    "name": "ipython",
    "version": 3
   },
   "file_extension": ".py",
   "mimetype": "text/x-python",
   "name": "python",
   "nbconvert_exporter": "python",
   "pygments_lexer": "ipython3",
   "version": "3.11.0"
  }
 },
 "nbformat": 4,
 "nbformat_minor": 5
}

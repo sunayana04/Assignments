{
 "cells": [
  {
   "cell_type": "code",
   "execution_count": 2,
   "id": "b5d116e9",
   "metadata": {},
   "outputs": [
    {
     "name": "stdout",
     "output_type": "stream",
     "text": [
      "Even number in numbers 4\n",
      "Odd number in numbers 5\n"
     ]
    }
   ],
   "source": [
    "numbers = [1, 2, 3, 4, 5, 6, 7, 8, 9]\n",
    "even=0\n",
    "odd=0\n",
    "for i in numbers:\n",
    "    if i%2==0:\n",
    "       even=even+1\n",
    "    else:\n",
    "        odd=odd+1\n",
    "print(\"Even number in numbers\",even) \n",
    "print(\"Odd number in numbers\",odd)\n"
   ]
  },
  {
   "cell_type": "code",
   "execution_count": null,
   "id": "8c1d8b90",
   "metadata": {},
   "outputs": [],
   "source": []
  }
 ],
 "metadata": {
  "kernelspec": {
   "display_name": "Python 3 (ipykernel)",
   "language": "python",
   "name": "python3"
  },
  "language_info": {
   "codemirror_mode": {
    "name": "ipython",
    "version": 3
   },
   "file_extension": ".py",
   "mimetype": "text/x-python",
   "name": "python",
   "nbconvert_exporter": "python",
   "pygments_lexer": "ipython3",
   "version": "3.11.0"
  }
 },
 "nbformat": 4,
 "nbformat_minor": 5
}

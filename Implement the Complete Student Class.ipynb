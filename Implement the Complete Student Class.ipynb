{
 "cells": [
  {
   "cell_type": "code",
   "execution_count": 13,
   "id": "92bae15a",
   "metadata": {},
   "outputs": [
    {
     "name": "stdout",
     "output_type": "stream",
     "text": [
      "Mihir\n",
      "12345\n"
     ]
    }
   ],
   "source": [
    "class Student:\n",
    "    def __init__(self):\n",
    "        self.__name = None\n",
    "        self.__rollNumber = None\n",
    "    def setName(self, name):\n",
    "            self.__name = name\n",
    "    def getName(self):\n",
    "            return self.__name\n",
    "        \n",
    "    def setRollNumber(self, rollNumber):\n",
    "            self.__rollNumber = rollNumber\n",
    "            \n",
    "    def getRollNumber(self):\n",
    "            return self.__rollNumber\n",
    "    \n",
    "s = Student()\n",
    "s.setName(\"Mihir\")\n",
    "s.setRollNumber(12345)\n",
    "\n",
    "print(s.getName())   \n",
    "print(s.getRollNumber())"
   ]
  },
  {
   "cell_type": "code",
   "execution_count": null,
   "id": "9c09a3b5",
   "metadata": {},
   "outputs": [],
   "source": []
  }
 ],
 "metadata": {
  "kernelspec": {
   "display_name": "Python 3 (ipykernel)",
   "language": "python",
   "name": "python3"
  },
  "language_info": {
   "codemirror_mode": {
    "name": "ipython",
    "version": 3
   },
   "file_extension": ".py",
   "mimetype": "text/x-python",
   "name": "python",
   "nbconvert_exporter": "python",
   "pygments_lexer": "ipython3",
   "version": "3.11.0"
  }
 },
 "nbformat": 4,
 "nbformat_minor": 5
}
